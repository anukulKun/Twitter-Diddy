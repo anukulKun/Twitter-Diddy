{
 "cells": [
  {
   "cell_type": "code",
   "execution_count": 1,
   "id": "d2f8792d",
   "metadata": {},
   "outputs": [
    {
     "name": "stdout",
     "output_type": "stream",
     "text": [
      "Defaulting to user installation because normal site-packages is not writeable\n",
      "Collecting ntscraper\n",
      "  Downloading ntscraper-0.4.0-py3-none-any.whl.metadata (7.4 kB)\n",
      "Requirement already satisfied: requests>=2.28 in c:\\users\\anuku\\appdata\\local\\packages\\pythonsoftwarefoundation.python.3.12_qbz5n2kfra8p0\\localcache\\local-packages\\python312\\site-packages (from ntscraper) (2.32.3)\n",
      "Requirement already satisfied: beautifulsoup4>=4.11 in c:\\users\\anuku\\appdata\\local\\packages\\pythonsoftwarefoundation.python.3.12_qbz5n2kfra8p0\\localcache\\local-packages\\python312\\site-packages (from ntscraper) (4.13.4)\n",
      "Requirement already satisfied: lxml>=4.9 in c:\\users\\anuku\\appdata\\local\\packages\\pythonsoftwarefoundation.python.3.12_qbz5n2kfra8p0\\localcache\\local-packages\\python312\\site-packages (from ntscraper) (6.0.0)\n",
      "Requirement already satisfied: tqdm>=4.66 in c:\\users\\anuku\\appdata\\local\\packages\\pythonsoftwarefoundation.python.3.12_qbz5n2kfra8p0\\localcache\\local-packages\\python312\\site-packages (from ntscraper) (4.67.1)\n",
      "Requirement already satisfied: soupsieve>1.2 in c:\\users\\anuku\\appdata\\local\\packages\\pythonsoftwarefoundation.python.3.12_qbz5n2kfra8p0\\localcache\\local-packages\\python312\\site-packages (from beautifulsoup4>=4.11->ntscraper) (2.7)\n",
      "Requirement already satisfied: typing-extensions>=4.0.0 in c:\\users\\anuku\\appdata\\local\\packages\\pythonsoftwarefoundation.python.3.12_qbz5n2kfra8p0\\localcache\\local-packages\\python312\\site-packages (from beautifulsoup4>=4.11->ntscraper) (4.14.1)\n",
      "Requirement already satisfied: charset-normalizer<4,>=2 in c:\\users\\anuku\\appdata\\local\\packages\\pythonsoftwarefoundation.python.3.12_qbz5n2kfra8p0\\localcache\\local-packages\\python312\\site-packages (from requests>=2.28->ntscraper) (3.4.1)\n",
      "Requirement already satisfied: idna<4,>=2.5 in c:\\users\\anuku\\appdata\\local\\packages\\pythonsoftwarefoundation.python.3.12_qbz5n2kfra8p0\\localcache\\local-packages\\python312\\site-packages (from requests>=2.28->ntscraper) (3.10)\n",
      "Requirement already satisfied: urllib3<3,>=1.21.1 in c:\\users\\anuku\\appdata\\local\\packages\\pythonsoftwarefoundation.python.3.12_qbz5n2kfra8p0\\localcache\\local-packages\\python312\\site-packages (from requests>=2.28->ntscraper) (2.5.0)\n",
      "Requirement already satisfied: certifi>=2017.4.17 in c:\\users\\anuku\\appdata\\local\\packages\\pythonsoftwarefoundation.python.3.12_qbz5n2kfra8p0\\localcache\\local-packages\\python312\\site-packages (from requests>=2.28->ntscraper) (2025.7.14)\n",
      "Requirement already satisfied: colorama in c:\\users\\anuku\\appdata\\local\\packages\\pythonsoftwarefoundation.python.3.12_qbz5n2kfra8p0\\localcache\\local-packages\\python312\\site-packages (from tqdm>=4.66->ntscraper) (0.4.6)\n",
      "Downloading ntscraper-0.4.0-py3-none-any.whl (12 kB)\n",
      "Installing collected packages: ntscraper\n",
      "Successfully installed ntscraper-0.4.0\n",
      "Note: you may need to restart the kernel to use updated packages.\n"
     ]
    },
    {
     "name": "stderr",
     "output_type": "stream",
     "text": [
      "\n",
      "[notice] A new release of pip is available: 25.0.1 -> 25.2\n",
      "[notice] To update, run: C:\\Users\\Anuku\\AppData\\Local\\Microsoft\\WindowsApps\\PythonSoftwareFoundation.Python.3.12_qbz5n2kfra8p0\\python.exe -m pip install --upgrade pip\n"
     ]
    }
   ],
   "source": [
    "pip install ntscraper\n"
   ]
  },
  {
   "cell_type": "code",
   "execution_count": 2,
   "id": "8019c765",
   "metadata": {},
   "outputs": [
    {
     "name": "stderr",
     "output_type": "stream",
     "text": [
      "Testing instances: 100%|██████████| 8/8 [00:12<00:00,  1.62s/it]\n"
     ]
    }
   ],
   "source": [
    "from ntscraper import Nitter\n",
    "\n",
    "scraper = Nitter(log_level=1, skip_instance_check=False)"
   ]
  },
  {
   "cell_type": "code",
   "execution_count": 10,
   "id": "185ddfc1",
   "metadata": {},
   "outputs": [
    {
     "name": "stdout",
     "output_type": "stream",
     "text": [
      "Available instances: []\n"
     ]
    }
   ],
   "source": [
    "print(\"Available instances:\", scraper.working_instances)"
   ]
  },
  {
   "cell_type": "code",
   "execution_count": 12,
   "id": "0a76f11b",
   "metadata": {},
   "outputs": [
    {
     "name": "stderr",
     "output_type": "stream",
     "text": [
      "Testing instances: 100%|██████████| 8/8 [00:06<00:00,  1.25it/s]"
     ]
    },
    {
     "name": "stdout",
     "output_type": "stream",
     "text": [
      "07-Aug-25 11:24:17 - No instance specified, using random instance https://nitter.net\n"
     ]
    },
    {
     "name": "stderr",
     "output_type": "stream",
     "text": [
      "\n"
     ]
    },
    {
     "name": "stdout",
     "output_type": "stream",
     "text": [
      "07-Aug-25 11:24:17 - Empty page on https://nitter.net\n",
      "07-Aug-25 11:24:19 - No instance specified, using random instance https://nitter.net\n",
      "07-Aug-25 11:24:19 - No instance specified, using random instance https://nitter.net\n",
      "07-Aug-25 11:24:20 - Empty page on https://nitter.net\n",
      "07-Aug-25 11:24:20 - Empty page on https://nitter.net\n"
     ]
    }
   ],
   "source": [
    "scraper = Nitter()\n",
    "scraper.working_instances = [\"https://nitter.net\"]  # Manually set this\n",
    "\n",
    "github_hash_tweets = scraper.get_tweets(\"github\", mode='hashtag' , number=10)\n",
    "bezos_tweets = scraper.get_tweets(\"JeffBezos\", mode='user')"
   ]
  },
  {
   "cell_type": "code",
   "execution_count": 14,
   "id": "e1ba9769",
   "metadata": {},
   "outputs": [
    {
     "name": "stdout",
     "output_type": "stream",
     "text": [
      "{'tweets': [], 'threads': []}\n"
     ]
    }
   ],
   "source": [
    "print(bezos_tweets)"
   ]
  },
  {
   "cell_type": "code",
   "execution_count": null,
   "id": "2d6b20e3",
   "metadata": {},
   "outputs": [],
   "source": []
  }
 ],
 "metadata": {
  "kernelspec": {
   "display_name": "Python 3",
   "language": "python",
   "name": "python3"
  },
  "language_info": {
   "codemirror_mode": {
    "name": "ipython",
    "version": 3
   },
   "file_extension": ".py",
   "mimetype": "text/x-python",
   "name": "python",
   "nbconvert_exporter": "python",
   "pygments_lexer": "ipython3",
   "version": "3.12.10"
  }
 },
 "nbformat": 4,
 "nbformat_minor": 5
}
